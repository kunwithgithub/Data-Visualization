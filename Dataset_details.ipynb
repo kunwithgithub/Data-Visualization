{
  "nbformat": 4,
  "nbformat_minor": 0,
  "metadata": {
    "colab": {
      "name": "Dataset details.ipynb",
      "provenance": [],
      "collapsed_sections": [
        "BcFqlvPWUHGI"
      ]
    },
    "kernelspec": {
      "name": "python3",
      "display_name": "Python 3"
    }
  },
  "cells": [
    {
      "cell_type": "markdown",
      "metadata": {
        "id": "ULrQHW3ZHv0w"
      },
      "source": [
        ""
      ]
    },
    {
      "cell_type": "code",
      "metadata": {
        "id": "wr9lAKttGnWv"
      },
      "source": [
        "from google.colab import files\n",
        "\n",
        "!pip install -q -U pandas\n",
        "import pandas as pd\n",
        "import io\n"
      ],
      "execution_count": null,
      "outputs": []
    },
    {
      "cell_type": "code",
      "metadata": {
        "id": "1BrLxLwwHiNJ",
        "outputId": "a8a3757a-af1c-40f6-d020-8472e97a3cfa",
        "colab": {
          "base_uri": "https://localhost:8080/",
          "height": 198
        }
      },
      "source": [
        "try:\n",
        "  df = pd.read_csv('BBox_List_2017.csv')\n",
        "except:\n",
        "  uploaded = files.upload()\n",
        "  df= pd.read_csv(io.BytesIO(uploaded['BBox_List_2017.csv']))\n",
        "df.head(n=5)"
      ],
      "execution_count": null,
      "outputs": [
        {
          "output_type": "execute_result",
          "data": {
            "text/html": [
              "<div>\n",
              "<style scoped>\n",
              "    .dataframe tbody tr th:only-of-type {\n",
              "        vertical-align: middle;\n",
              "    }\n",
              "\n",
              "    .dataframe tbody tr th {\n",
              "        vertical-align: top;\n",
              "    }\n",
              "\n",
              "    .dataframe thead th {\n",
              "        text-align: right;\n",
              "    }\n",
              "</style>\n",
              "<table border=\"1\" class=\"dataframe\">\n",
              "  <thead>\n",
              "    <tr style=\"text-align: right;\">\n",
              "      <th></th>\n",
              "      <th>Image Index</th>\n",
              "      <th>Finding Label</th>\n",
              "      <th>Bbox [x</th>\n",
              "      <th>y</th>\n",
              "      <th>w</th>\n",
              "      <th>h]</th>\n",
              "      <th>Unnamed: 6</th>\n",
              "      <th>Unnamed: 7</th>\n",
              "      <th>Unnamed: 8</th>\n",
              "    </tr>\n",
              "  </thead>\n",
              "  <tbody>\n",
              "    <tr>\n",
              "      <th>0</th>\n",
              "      <td>00013118_008.png</td>\n",
              "      <td>Atelectasis</td>\n",
              "      <td>225.084746</td>\n",
              "      <td>547.019217</td>\n",
              "      <td>86.779661</td>\n",
              "      <td>79.186441</td>\n",
              "      <td>NaN</td>\n",
              "      <td>NaN</td>\n",
              "      <td>NaN</td>\n",
              "    </tr>\n",
              "    <tr>\n",
              "      <th>1</th>\n",
              "      <td>00014716_007.png</td>\n",
              "      <td>Atelectasis</td>\n",
              "      <td>686.101695</td>\n",
              "      <td>131.543498</td>\n",
              "      <td>185.491525</td>\n",
              "      <td>313.491525</td>\n",
              "      <td>NaN</td>\n",
              "      <td>NaN</td>\n",
              "      <td>NaN</td>\n",
              "    </tr>\n",
              "    <tr>\n",
              "      <th>2</th>\n",
              "      <td>00029817_009.png</td>\n",
              "      <td>Atelectasis</td>\n",
              "      <td>221.830508</td>\n",
              "      <td>317.053115</td>\n",
              "      <td>155.118644</td>\n",
              "      <td>216.949153</td>\n",
              "      <td>NaN</td>\n",
              "      <td>NaN</td>\n",
              "      <td>NaN</td>\n",
              "    </tr>\n",
              "    <tr>\n",
              "      <th>3</th>\n",
              "      <td>00014687_001.png</td>\n",
              "      <td>Atelectasis</td>\n",
              "      <td>726.237288</td>\n",
              "      <td>494.951420</td>\n",
              "      <td>141.016949</td>\n",
              "      <td>55.322034</td>\n",
              "      <td>NaN</td>\n",
              "      <td>NaN</td>\n",
              "      <td>NaN</td>\n",
              "    </tr>\n",
              "    <tr>\n",
              "      <th>4</th>\n",
              "      <td>00017877_001.png</td>\n",
              "      <td>Atelectasis</td>\n",
              "      <td>660.067797</td>\n",
              "      <td>569.780787</td>\n",
              "      <td>200.677966</td>\n",
              "      <td>78.101695</td>\n",
              "      <td>NaN</td>\n",
              "      <td>NaN</td>\n",
              "      <td>NaN</td>\n",
              "    </tr>\n",
              "  </tbody>\n",
              "</table>\n",
              "</div>"
            ],
            "text/plain": [
              "        Image Index Finding Label  ...  Unnamed: 7  Unnamed: 8\n",
              "0  00013118_008.png   Atelectasis  ...         NaN         NaN\n",
              "1  00014716_007.png   Atelectasis  ...         NaN         NaN\n",
              "2  00029817_009.png   Atelectasis  ...         NaN         NaN\n",
              "3  00014687_001.png   Atelectasis  ...         NaN         NaN\n",
              "4  00017877_001.png   Atelectasis  ...         NaN         NaN\n",
              "\n",
              "[5 rows x 9 columns]"
            ]
          },
          "metadata": {
            "tags": []
          },
          "execution_count": 4
        }
      ]
    },
    {
      "cell_type": "markdown",
      "metadata": {
        "id": "QvmmcdFrMIxs"
      },
      "source": [
        "# There are duplicates for images which means we have to do multi object detection"
      ]
    },
    {
      "cell_type": "code",
      "metadata": {
        "id": "KpH4PQRiLS2Z",
        "outputId": "a17a57a9-4bd6-4f47-c8a3-5744f850c6ff",
        "colab": {
          "base_uri": "https://localhost:8080/",
          "height": 235
        }
      },
      "source": [
        "df[\"Image Index\"].value_counts()"
      ],
      "execution_count": null,
      "outputs": [
        {
          "output_type": "execute_result",
          "data": {
            "text/plain": [
              "00010277_000.png    4\n",
              "00021703_001.png    3\n",
              "00005066_030.png    3\n",
              "00018427_004.png    3\n",
              "00010828_039.png    3\n",
              "                   ..\n",
              "00028924_009.png    1\n",
              "00005066_005.png    1\n",
              "00008291_009.png    1\n",
              "00002059_008.png    1\n",
              "00025252_032.png    1\n",
              "Name: Image Index, Length: 880, dtype: int64"
            ]
          },
          "metadata": {
            "tags": []
          },
          "execution_count": 5
        }
      ]
    },
    {
      "cell_type": "markdown",
      "metadata": {
        "id": "gnsbkdeGK-tH"
      },
      "source": [
        "# BoundingBox definition:\n"
      ]
    },
    {
      "cell_type": "markdown",
      "metadata": {
        "id": "UFX3JoFBKQw_"
      },
      "source": [
        "https://www.hackerearth.com/blog/developers/introduction-to-object-detection/#:~:text=In%20computer%20vision%2C%20the%20most,the%20help%20of%20bounding%20boxes.&text=A%20bounding%20box%20can%20be,box%20w.r.t%20the%20image%20width"
      ]
    },
    {
      "cell_type": "markdown",
      "metadata": {
        "id": "hDp40DVcMiOB"
      },
      "source": [
        "Basically used for object detection in an image"
      ]
    },
    {
      "cell_type": "markdown",
      "metadata": {
        "id": "0VFcbuymNAu6"
      },
      "source": [
        "# Data Entry"
      ]
    },
    {
      "cell_type": "code",
      "metadata": {
        "id": "vip2uJzZNSlv",
        "outputId": "c78dc4d3-b557-49d9-99c5-81a4348e094e",
        "colab": {
          "base_uri": "https://localhost:8080/",
          "height": 198
        }
      },
      "source": [
        "try:\n",
        "  df_data_entry = pd.read_csv('Data_Entry_2017.csv')\n",
        "except:\n",
        "  uploaded = files.upload()\n",
        "  df_data_entry = pd.read_csv(io.BytesIO(uploaded['Data_Entry_2017.csv']))\n",
        "\n",
        "df_data_entry.head(n=5)"
      ],
      "execution_count": null,
      "outputs": [
        {
          "output_type": "execute_result",
          "data": {
            "text/html": [
              "<div>\n",
              "<style scoped>\n",
              "    .dataframe tbody tr th:only-of-type {\n",
              "        vertical-align: middle;\n",
              "    }\n",
              "\n",
              "    .dataframe tbody tr th {\n",
              "        vertical-align: top;\n",
              "    }\n",
              "\n",
              "    .dataframe thead th {\n",
              "        text-align: right;\n",
              "    }\n",
              "</style>\n",
              "<table border=\"1\" class=\"dataframe\">\n",
              "  <thead>\n",
              "    <tr style=\"text-align: right;\">\n",
              "      <th></th>\n",
              "      <th>Image Index</th>\n",
              "      <th>Finding Labels</th>\n",
              "      <th>Follow-up #</th>\n",
              "      <th>Patient ID</th>\n",
              "      <th>Patient Age</th>\n",
              "      <th>Patient Gender</th>\n",
              "      <th>View Position</th>\n",
              "      <th>OriginalImage[Width</th>\n",
              "      <th>Height]</th>\n",
              "      <th>OriginalImagePixelSpacing[x</th>\n",
              "      <th>y]</th>\n",
              "      <th>Unnamed: 11</th>\n",
              "    </tr>\n",
              "  </thead>\n",
              "  <tbody>\n",
              "    <tr>\n",
              "      <th>0</th>\n",
              "      <td>00000001_000.png</td>\n",
              "      <td>Cardiomegaly</td>\n",
              "      <td>0</td>\n",
              "      <td>1</td>\n",
              "      <td>58</td>\n",
              "      <td>M</td>\n",
              "      <td>PA</td>\n",
              "      <td>2682</td>\n",
              "      <td>2749</td>\n",
              "      <td>0.143</td>\n",
              "      <td>0.143</td>\n",
              "      <td>NaN</td>\n",
              "    </tr>\n",
              "    <tr>\n",
              "      <th>1</th>\n",
              "      <td>00000001_001.png</td>\n",
              "      <td>Cardiomegaly|Emphysema</td>\n",
              "      <td>1</td>\n",
              "      <td>1</td>\n",
              "      <td>58</td>\n",
              "      <td>M</td>\n",
              "      <td>PA</td>\n",
              "      <td>2894</td>\n",
              "      <td>2729</td>\n",
              "      <td>0.143</td>\n",
              "      <td>0.143</td>\n",
              "      <td>NaN</td>\n",
              "    </tr>\n",
              "    <tr>\n",
              "      <th>2</th>\n",
              "      <td>00000001_002.png</td>\n",
              "      <td>Cardiomegaly|Effusion</td>\n",
              "      <td>2</td>\n",
              "      <td>1</td>\n",
              "      <td>58</td>\n",
              "      <td>M</td>\n",
              "      <td>PA</td>\n",
              "      <td>2500</td>\n",
              "      <td>2048</td>\n",
              "      <td>0.168</td>\n",
              "      <td>0.168</td>\n",
              "      <td>NaN</td>\n",
              "    </tr>\n",
              "    <tr>\n",
              "      <th>3</th>\n",
              "      <td>00000002_000.png</td>\n",
              "      <td>No Finding</td>\n",
              "      <td>0</td>\n",
              "      <td>2</td>\n",
              "      <td>81</td>\n",
              "      <td>M</td>\n",
              "      <td>PA</td>\n",
              "      <td>2500</td>\n",
              "      <td>2048</td>\n",
              "      <td>0.171</td>\n",
              "      <td>0.171</td>\n",
              "      <td>NaN</td>\n",
              "    </tr>\n",
              "    <tr>\n",
              "      <th>4</th>\n",
              "      <td>00000003_000.png</td>\n",
              "      <td>Hernia</td>\n",
              "      <td>0</td>\n",
              "      <td>3</td>\n",
              "      <td>81</td>\n",
              "      <td>F</td>\n",
              "      <td>PA</td>\n",
              "      <td>2582</td>\n",
              "      <td>2991</td>\n",
              "      <td>0.143</td>\n",
              "      <td>0.143</td>\n",
              "      <td>NaN</td>\n",
              "    </tr>\n",
              "  </tbody>\n",
              "</table>\n",
              "</div>"
            ],
            "text/plain": [
              "        Image Index          Finding Labels  ...     y]  Unnamed: 11\n",
              "0  00000001_000.png            Cardiomegaly  ...  0.143          NaN\n",
              "1  00000001_001.png  Cardiomegaly|Emphysema  ...  0.143          NaN\n",
              "2  00000001_002.png   Cardiomegaly|Effusion  ...  0.168          NaN\n",
              "3  00000002_000.png              No Finding  ...  0.171          NaN\n",
              "4  00000003_000.png                  Hernia  ...  0.143          NaN\n",
              "\n",
              "[5 rows x 12 columns]"
            ]
          },
          "metadata": {
            "tags": []
          },
          "execution_count": 18
        }
      ]
    },
    {
      "cell_type": "code",
      "metadata": {
        "id": "86oOUoxsCfhK",
        "outputId": "ad0fa1c4-fba6-4f7f-b8b9-58c1951ee71c",
        "colab": {
          "base_uri": "https://localhost:8080/",
          "height": 35
        }
      },
      "source": [
        "print(df_data_entry.shape)"
      ],
      "execution_count": null,
      "outputs": [
        {
          "output_type": "stream",
          "text": [
            "(112120, 12)\n"
          ],
          "name": "stdout"
        }
      ]
    },
    {
      "cell_type": "markdown",
      "metadata": {
        "id": "-eMVLF6dCqt4"
      },
      "source": [
        "Number of samples in dataset including duplicates is 112120"
      ]
    },
    {
      "cell_type": "code",
      "metadata": {
        "id": "--ELpoEgO44O",
        "outputId": "2896485a-86ac-4e2b-f427-8dded61017d0",
        "colab": {
          "base_uri": "https://localhost:8080/",
          "height": 540
        }
      },
      "source": [
        "output = df_data_entry[df_data_entry[\"Follow-up #\"]<=50][\"Follow-up #\"].value_counts()\n",
        "pd.set_option('display.max_rows', df_data_entry.shape[0])\n",
        "\n",
        "\n",
        "print(output.index)\n",
        "output.plot.bar(x=output.index,figsize=(15,7))"
      ],
      "execution_count": null,
      "outputs": [
        {
          "output_type": "stream",
          "text": [
            "Int64Index([ 0,  1,  2,  3,  4,  5,  6,  7,  8,  9, 10, 11, 12, 13, 14, 15, 16,\n",
            "            17, 18, 19, 20, 21, 22, 23, 24, 25, 26, 27, 28, 29, 30, 31, 32, 33,\n",
            "            34, 35, 36, 37, 38, 39, 40, 41, 42, 43, 44, 45, 46, 47, 48, 49,\n",
            "            50],\n",
            "           dtype='int64')\n"
          ],
          "name": "stdout"
        },
        {
          "output_type": "execute_result",
          "data": {
            "text/plain": [
              "<matplotlib.axes._subplots.AxesSubplot at 0x7f1ef7857eb8>"
            ]
          },
          "metadata": {
            "tags": []
          },
          "execution_count": 7
        },
        {
          "output_type": "display_data",
          "data": {
            "image/png": "[encoded data removed]",
            "text/plain": [
              "<Figure size 1080x504 with 1 Axes>"
            ]
          },
          "metadata": {
            "tags": [],
            "needs_background": "light"
          }
        }
      ]
    },
    {
      "cell_type": "markdown",
      "metadata": {
        "id": "BcFqlvPWUHGI"
      },
      "source": [
        "##Number of Followups "
      ]
    },
    {
      "cell_type": "code",
      "metadata": {
        "id": "mXAioifTUNEO",
        "outputId": "5ade43de-5d3e-448a-e170-4155ff634b03",
        "colab": {
          "base_uri": "https://localhost:8080/"
        }
      },
      "source": [
        "df_data_entry[\"Follow-up #\"].value_counts()"
      ],
      "execution_count": null,
      "outputs": [
        {
          "output_type": "execute_result",
          "data": {
            "text/plain": [
              "0      30805\n",
              "1      13302\n",
              "2       9189\n",
              "3       7089\n",
              "4       5759\n",
              "5       4821\n",
              "6       4034\n",
              "7       3426\n",
              "8       2932\n",
              "9       2545\n",
              "10      2225\n",
              "11      1944\n",
              "12      1709\n",
              "13      1544\n",
              "14      1363\n",
              "15      1242\n",
              "16      1122\n",
              "17      1031\n",
              "18       954\n",
              "19       877\n",
              "20       803\n",
              "21       735\n",
              "22       696\n",
              "23       646\n",
              "24       595\n",
              "25       550\n",
              "26       515\n",
              "27       477\n",
              "28       450\n",
              "29       425\n",
              "30       397\n",
              "31       380\n",
              "32       358\n",
              "33       338\n",
              "34       315\n",
              "35       291\n",
              "36       283\n",
              "37       272\n",
              "38       256\n",
              "39       245\n",
              "40       233\n",
              "41       219\n",
              "42       208\n",
              "43       202\n",
              "44       194\n",
              "45       188\n",
              "46       178\n",
              "47       173\n",
              "48       166\n",
              "49       157\n",
              "50       151\n",
              "51       140\n",
              "52       133\n",
              "53       128\n",
              "54       121\n",
              "55       111\n",
              "56       104\n",
              "57       102\n",
              "58        98\n",
              "59        95\n",
              "60        92\n",
              "61        84\n",
              "62        77\n",
              "63        74\n",
              "64        71\n",
              "65        68\n",
              "66        62\n",
              "67        59\n",
              "68        55\n",
              "69        49\n",
              "70        47\n",
              "71        45\n",
              "72        45\n",
              "73        43\n",
              "74        42\n",
              "75        41\n",
              "76        39\n",
              "78        37\n",
              "77        37\n",
              "79        36\n",
              "80        34\n",
              "82        31\n",
              "81        31\n",
              "83        30\n",
              "85        28\n",
              "84        28\n",
              "86        25\n",
              "87        24\n",
              "88        23\n",
              "89        22\n",
              "90        20\n",
              "91        19\n",
              "92        19\n",
              "93        19\n",
              "94        19\n",
              "98        19\n",
              "95        19\n",
              "96        19\n",
              "97        19\n",
              "101       18\n",
              "100       18\n",
              "99        18\n",
              "105       17\n",
              "103       17\n",
              "107       17\n",
              "104       17\n",
              "106       17\n",
              "102       17\n",
              "108       14\n",
              "110       13\n",
              "109       13\n",
              "113       12\n",
              "112       12\n",
              "111       12\n",
              "114       11\n",
              "115       11\n",
              "116        9\n",
              "118        8\n",
              "117        8\n",
              "127        7\n",
              "122        7\n",
              "126        7\n",
              "119        7\n",
              "128        7\n",
              "125        7\n",
              "120        7\n",
              "124        7\n",
              "121        7\n",
              "129        7\n",
              "123        7\n",
              "134        6\n",
              "133        6\n",
              "130        6\n",
              "136        6\n",
              "131        6\n",
              "135        6\n",
              "132        6\n",
              "137        5\n",
              "138        5\n",
              "139        5\n",
              "140        5\n",
              "141        5\n",
              "142        5\n",
              "148        4\n",
              "146        4\n",
              "156        4\n",
              "155        4\n",
              "154        4\n",
              "143        4\n",
              "153        4\n",
              "152        4\n",
              "144        4\n",
              "151        4\n",
              "150        4\n",
              "145        4\n",
              "149        4\n",
              "147        4\n",
              "157        3\n",
              "168        2\n",
              "162        2\n",
              "158        2\n",
              "167        2\n",
              "159        2\n",
              "172        2\n",
              "166        2\n",
              "160        2\n",
              "169        2\n",
              "165        2\n",
              "161        2\n",
              "164        2\n",
              "171        2\n",
              "170        2\n",
              "163        2\n",
              "175        1\n",
              "183        1\n",
              "176        1\n",
              "179        1\n",
              "177        1\n",
              "182        1\n",
              "181        1\n",
              "174        1\n",
              "180        1\n",
              "178        1\n",
              "173        1\n",
              "Name: Follow-up #, dtype: int64"
            ]
          },
          "metadata": {
            "tags": []
          },
          "execution_count": 8
        }
      ]
    },
    {
      "cell_type": "code",
      "metadata": {
        "id": "40M_UCnDVQWS"
      },
      "source": [
        ""
      ],
      "execution_count": null,
      "outputs": []
    },
    {
      "cell_type": "markdown",
      "metadata": {
        "id": "ZhC2GKIYVSnU"
      },
      "source": [
        "# Gender vs. Age based on patient id"
      ]
    },
    {
      "cell_type": "code",
      "metadata": {
        "id": "j7KLNuPZVbXB",
        "outputId": "03430809-0591-4143-e8d7-95d2cc66cd18",
        "colab": {
          "base_uri": "https://localhost:8080/",
          "height": 635
        }
      },
      "source": [
        "import matplotlib as plt\n",
        "import numpy as np\n",
        "new_df = df_data_entry.loc[:,[\"Patient ID\",\"Patient Age\",\"Patient Gender\"]]\n",
        "new_df = new_df.set_index(\"Patient ID\")\n",
        "new_df = new_df[~new_df.index.duplicated(keep='first')].reset_index()\n",
        "for each in new_df.columns:\n",
        "  print(np.dtype(new_df[each]))\n",
        "plot = new_df['Patient Age'].value_counts().plot.bar(figsize=(30,15))\n",
        "plot.legend(bbox_to_anchor=(1.5,1))\n",
        "\n",
        "#sort out age and throw out anything above 100\n",
        "#boxplot to see outliers iqr to filter out "
      ],
      "execution_count": null,
      "outputs": [
        {
          "output_type": "stream",
          "text": [
            "int64\n",
            "int64\n",
            "object\n"
          ],
          "name": "stdout"
        },
        {
          "output_type": "execute_result",
          "data": {
            "text/plain": [
              "<matplotlib.legend.Legend at 0x7f1ef8b22208>"
            ]
          },
          "metadata": {
            "tags": []
          },
          "execution_count": 9
        },
        {
          "output_type": "display_data",
          "data": {
            "image/png": "[encoded data removed]",
            "text/plain": [
              "<Figure size 2160x1080 with 1 Axes>"
            ]
          },
          "metadata": {
            "tags": [],
            "needs_background": "light"
          }
        }
      ]
    },
    {
      "cell_type": "code",
      "metadata": {
        "id": "zGvovLmkCwlw",
        "outputId": "4ab86a71-9570-4133-a9f6-e5360c9de6c4",
        "colab": {
          "base_uri": "https://localhost:8080/",
          "height": 90
        }
      },
      "source": [
        "# number of unique patients\n",
        "new_df = df_data_entry.loc[:,[\"Patient ID\",\"Patient Age\",\"Patient Gender\"]]\n",
        "new_df = new_df.set_index(\"Patient ID\")\n",
        "new_df = new_df[~new_df.index.duplicated(keep='first')].reset_index()\n",
        "for each in new_df.columns:\n",
        "  print(np.dtype(new_df[each]))\n",
        "\n",
        "print(new_df['Patient Age'].shape)"
      ],
      "execution_count": null,
      "outputs": [
        {
          "output_type": "stream",
          "text": [
            "int64\n",
            "int64\n",
            "object\n",
            "(30805,)\n"
          ],
          "name": "stdout"
        }
      ]
    },
    {
      "cell_type": "markdown",
      "metadata": {
        "id": "HkdddVi0DP3n"
      },
      "source": [
        "Number of unique patients in dataset including duplicates is 30805"
      ]
    },
    {
      "cell_type": "markdown",
      "metadata": {
        "id": "zxdVvkbxh8F0"
      },
      "source": [
        "The data indicates that there are people over the age of 100 aka \"155\" or \"412\"\n",
        "we need to filter them out "
      ]
    },
    {
      "cell_type": "code",
      "metadata": {
        "id": "c6uvDqfxiDbm",
        "outputId": "de352f72-5e6d-4f10-d51f-499acb27eedd",
        "colab": {
          "base_uri": "https://localhost:8080/",
          "height": 429
        }
      },
      "source": [
        "plot = new_df['Patient Gender'].value_counts().plot.pie(figsize=(7,7))\n",
        "plot.legend(bbox_to_anchor=(1.5,1))"
      ],
      "execution_count": null,
      "outputs": [
        {
          "output_type": "execute_result",
          "data": {
            "text/plain": [
              "<matplotlib.legend.Legend at 0x7f1ef7692c18>"
            ]
          },
          "metadata": {
            "tags": []
          },
          "execution_count": 10
        },
        {
          "output_type": "display_data",
          "data": {
            "image/png": "[encoded data removed]",
            "text/plain": [
              "<Figure size 504x504 with 1 Axes>"
            ]
          },
          "metadata": {
            "tags": []
          }
        }
      ]
    },
    {
      "cell_type": "markdown",
      "metadata": {
        "id": "8hPEqCjmAya6"
      },
      "source": [
        "56% Male - 44% Female"
      ]
    },
    {
      "cell_type": "code",
      "metadata": {
        "id": "0G2krH3Hk78k",
        "outputId": "4bb2a752-a25f-49c8-c570-6627608f39f4",
        "colab": {
          "base_uri": "https://localhost:8080/",
          "height": 387
        }
      },
      "source": [
        "df_data_entry[\"Finding Labels\"].value_counts()\n",
        "sub=[\"Atelectasis\",\"Consolidation\",\"Infiltration\",\"Pneumothorax\",\"Edema\",\"Emphysema\",\"Fibrosis\",\"Effusion\",\"Pneumonia\",\"Pleural_Thickening\",\"Cardiomegaly\",\"Nodule\",\"Mass\",\"Hernia\"]\n",
        "diseases = {}\n",
        "for disease in sub:\n",
        "  diseases[disease] = df_data_entry[\"Finding Labels\"].str.count(disease).sum()\n",
        "\n",
        "diseases_series = pd.Series(diseases)\n",
        "diseases_series.plot.bar()\n",
        "print(diseases)"
      ],
      "execution_count": null,
      "outputs": [
        {
          "output_type": "stream",
          "text": [
            "{'Atelectasis': 11559, 'Consolidation': 4667, 'Infiltration': 19894, 'Pneumothorax': 5302, 'Edema': 2303, 'Emphysema': 2516, 'Fibrosis': 1686, 'Effusion': 13317, 'Pneumonia': 1431, 'Pleural_Thickening': 3385, 'Cardiomegaly': 2776, 'Nodule': 6331, 'Mass': 5782, 'Hernia': 227}\n"
          ],
          "name": "stdout"
        },
        {
          "output_type": "display_data",
          "data": {
            "image/png": "[encoded data removed]",
            "text/plain": [
              "<Figure size 432x288 with 1 Axes>"
            ]
          },
          "metadata": {
            "tags": [],
            "needs_background": "light"
          }
        }
      ]
    },
    {
      "cell_type": "code",
      "metadata": {
        "id": "6Z0f6XwPBhUs",
        "outputId": "2f5ad103-07c6-4d57-b159-007c23d197f0",
        "colab": {
          "base_uri": "https://localhost:8080/",
          "height": 387
        }
      },
      "source": [
        "df_data_entry[\"Finding Labels\"].value_counts()\n",
        "sub=[\"No Finding\",\"Atelectasis\",\"Consolidation\",\"Infiltration\",\"Pneumothorax\",\"Edema\",\"Emphysema\",\"Fibrosis\",\"Effusion\",\"Pneumonia\",\"Pleural_Thickening\",\"Cardiomegaly\",\"Nodule\",\"Mass\",\"Hernia\"]\n",
        "diseases = {}\n",
        "for disease in sub:\n",
        "  diseases[disease] = df_data_entry[\"Finding Labels\"].str.count(disease).sum()\n",
        "\n",
        "diseases_series = pd.Series(diseases)\n",
        "diseases_series.plot.bar()\n",
        "print(diseases)"
      ],
      "execution_count": null,
      "outputs": [
        {
          "output_type": "stream",
          "text": [
            "{'No Finding': 60361, 'Atelectasis': 11559, 'Consolidation': 4667, 'Infiltration': 19894, 'Pneumothorax': 5302, 'Edema': 2303, 'Emphysema': 2516, 'Fibrosis': 1686, 'Effusion': 13317, 'Pneumonia': 1431, 'Pleural_Thickening': 3385, 'Cardiomegaly': 2776, 'Nodule': 6331, 'Mass': 5782, 'Hernia': 227}\n"
          ],
          "name": "stdout"
        },
        {
          "output_type": "display_data",
          "data": {
            "image/png": "[encoded data removed]",
            "text/plain": [
              "<Figure size 432x288 with 1 Axes>"
            ]
          },
          "metadata": {
            "tags": [],
            "needs_background": "light"
          }
        }
      ]
    }
  ]
}